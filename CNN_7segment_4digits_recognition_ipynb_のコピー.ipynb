{
  "nbformat": 4,
  "nbformat_minor": 0,
  "metadata": {
    "colab": {
      "name": "CNN-7segment_4digits-recognition.ipynb のコピー",
      "provenance": [],
      "collapsed_sections": [],
      "include_colab_link": true
    },
    "kernelspec": {
      "name": "python3",
      "display_name": "Python 3"
    }
  },
  "cells": [
    {
      "cell_type": "markdown",
      "metadata": {
        "id": "view-in-github",
        "colab_type": "text"
      },
      "source": [
        "<a href=\"https://colab.research.google.com/github/nagito-hiroshima/numberOCR/blob/main/CNN_7segment_4digits_recognition_ipynb_%E3%81%AE%E3%82%B3%E3%83%94%E3%83%BC.ipynb\" target=\"_parent\"><img src=\"https://colab.research.google.com/assets/colab-badge.svg\" alt=\"Open In Colab\"/></a>"
      ]
    },
    {
      "cell_type": "markdown",
      "metadata": {
        "id": "5mR5kcDmjGf0"
      },
      "source": [
        "**【7セグメントのデジタル数字画像認識 - 4桁の連続数字認識（連続文字認識）】**<br><br>\n",
        "400 × 100（横400 × 縦100ピクセル）の画像を4等分し、個別に認識した結果をまとめて表示させることで1〜4桁の連続数字を認識できるプログラムです。何も数字がない場合には、数値が出力されないようになっています。<br>\n",
        "学習データは、実際に使う7セグメントディスプレイ画像を撮影した物を使って学習を繰り返すと、デジタルの数字の認識精度が上がるのではないかと思います。\n",
        "<br><br>\n",
        "・機械学習モデル：CNN（Convolutional Neural Network：畳み込みニューラルネットワーク）<br>\n",
        "・データセット：オリジナルの7セグメントのデジタル数字画像で作成\n",
        "<br><br>\n",
        "こちらに公開しているプログラム<br>\n",
        "[Keras_CNN_7segment_digits_originaldataset.ipynb | Google Colaboratory共有ファイル](https://colab.research.google.com/drive/1iNvxdmwt5h-envZKND2LS42dnpcMzdsW?usp=sharing)<br>\n",
        "\n",
        "（7セグメントのデジタル数字のオリジナル学習済みモデルを作成）<br>\n",
        "を使うと、オリジナルデータセットでモデルを再学習することができます。<br>\n",
        "実際に認識させていく中で、間違えた画像をデータセットに追加し、再学習することで実際の正解率が向上していくのではないかと思います。<br>\n",
        "一連のサンプルコードでは、学習済みモデルの学習回数は僅かで、基本的な画像の前処理しか行っていませんでしたが、自分が目的とするデジタル数字画像の判定結果はまずまずでした。<br>\n",
        "＊　今後専用のチュートリアル動画などを作成予定です。\n",
        "<br>\n",
        "：[RehabC - デジタルで、遊ぶ。（YouTube）](https://www.youtube.com/channel/UCR04rlF8TZ-xCH2wJvp9WOw)<br>\n",
        "\n",
        "に投稿予定です。作成次第公開したいと思いますので、しばらくお待ちください。\n",
        "<br>\n",
        "<br>\n",
        "**【追記：2021年2月16日】**<br>\n",
        "チュートリアル動画を公開しました。<br>\n",
        "：[【Python機械学習入門】高精度の自作OCRを作ろう（7セグメントデジタル連続数字画像認識AI：1桁〜4桁 - 静止画トリミング編）- 7 Segment Digits Training by RehabC - デジタルで、遊ぶ。（YouTube動画）](https://youtu.be/t9NhmiMZ_1E)<br>\n",
        "＊アップロード完了後に視聴できます。\n",
        "<br><br>\n"
      ]
    },
    {
      "cell_type": "markdown",
      "metadata": {
        "id": "jt3MFl-H-HKJ"
      },
      "source": [
        "**The MIT License**\n",
        "\n",
        "Copyright 2021 child programmer\n",
        "\n",
        "Permission is hereby granted, free of charge, to any person obtaining a copy of this software and associated documentation files (the \"Software\"), to deal in the Software without restriction, including without limitation the rights to use, copy, modify, merge, publish, distribute, sublicense, and/or sell copies of the Software, and to permit persons to whom the Software is furnished to do so, subject to the following conditions:\n",
        "\n",
        "The above copyright notice and this permission notice shall be included in all copies or substantial portions of the Software.\n",
        "\n",
        "THE SOFTWARE IS PROVIDED \"AS IS\", WITHOUT WARRANTY OF ANY KIND, EXPRESS OR IMPLIED, INCLUDING BUT NOT LIMITED TO THE WARRANTIES OF MERCHANTABILITY, FITNESS FOR A PARTICULAR PURPOSE AND NONINFRINGEMENT. IN NO EVENT SHALL THE AUTHORS OR COPYRIGHT HOLDERS BE LIABLE FOR ANY CLAIM, DAMAGES OR OTHER LIABILITY, WHETHER IN AN ACTION OF CONTRACT, TORT OR OTHERWISE, ARISING FROM, OUT OF OR IN CONNECTION WITH THE SOFTWARE OR THE USE OR OTHER DEALINGS IN THE SOFTWARE."
      ]
    },
    {
      "cell_type": "markdown",
      "metadata": {
        "id": "EWz1yhnB5TRz"
      },
      "source": [
        "**① 学習済みモデルの準備。**<br><br>\n",
        "以下のプログラムで作成できます。「〜.h5」という名前のファイルを作成できます。<br>\n",
        "[Keras_CNN_7segment_digits_originaldataset.ipynb | Google Colaboratory 共有ファイル](https://colab.research.google.com/drive/1iNvxdmwt5h-envZKND2LS42dnpcMzdsW?usp=sharing)\n",
        "<br><br>\n"
      ]
    },
    {
      "cell_type": "markdown",
      "metadata": {
        "id": "stuCG6nE5wWX"
      },
      "source": [
        "**② Google Colaboratoryの、このノートブックに学習済みモデルをアップロード。**<br>\n",
        "<br>\n",
        "サンプルの学習済みモデル「〜.h5」ファイルのダウンロードはこちら<br>\n",
        "モノクロ・グレースケール版：<br>\n",
        "[ダウンロード：学習済みモデル - モノクロ・グレースケール版（7セグメントディスプレイのデジタル数字画像認識）by 子供プログラマー](https://child-programmer.com/download/seven-segment-digits-ocr-model-grayscale/)<br>\n",
        "カラー版：<br>\n",
        "[ダウンロード：学習済みモデル - カラー版（7セグメントディスプレイのデジタル数字画像認識）by 子供プログラマー](https://child-programmer.com/download/seven-segment-digits-ocr-model-color/)\n",
        "\n",
        "<br>\n",
        "＊　区別がつきやすいように長い名前がついていますが、使う際は「model.h5」の名前に変更して使うと楽です。<br>　　デフォルトでは「model.h5」を読み込むプログラムを記述しています。\n",
        "<br><br>"
      ]
    },
    {
      "cell_type": "markdown",
      "metadata": {
        "id": "cegYzqCa6EK-"
      },
      "source": [
        "**③ 画像認識させたい画像ファイルをこのノートブックにアップロード。**<br><br>\n",
        "デフォルのプログラムではアップロードされた画像を「横の幅400ピクセル」・「縦の高さ100ピクセル」にサイズ変更し横の幅を4等分（100ピクセルごとに分ける）しています。<br>\n",
        "そのため、横の幅を4等分した際に、認識させたい7セグメントの数字の画像が入っていないと、うまく認識できません。\n",
        "<br>今後実際に認識させたい画像サイズに合わせて画像のサイズやトリミング範囲を変更してみてください。\n",
        "<br><br>\n",
        "サンプル画像のダウンロードはこちら。ローカル環境で圧縮ファイルを解凍後に、画像ファイルだけをアップロードします。<br>\n",
        "[ダウンロード：判定用1桁〜4桁の7セグメントのデジタル数字画像 by 子供プログラマー](https://child-programmer.com/download/seven-segment-digits-ocr-manual-images/)\n",
        "<br><br>\n"
      ]
    },
    {
      "cell_type": "markdown",
      "metadata": {
        "id": "dcEHWfLW7WHr"
      },
      "source": [
        "**④ 7セグメントデジタル数字の画像判定に挑戦**<br><br>\n",
        "デフォルトでは、<br>\n",
        "・モノクロ・グレースケールのカラー設定<br>\n",
        "・横の幅28・縦の高さ28ピクセル<br>\n",
        "の学習済みモデル（Kerasで作成）を利用するプログラムになっています。"
      ]
    },
    {
      "cell_type": "code",
      "metadata": {
        "colab": {
          "base_uri": "https://localhost:8080/",
          "height": 230
        },
        "id": "wrkfZxzlTKmR",
        "outputId": "e130e78f-d391-4047-ac66-fce667e1dbf9"
      },
      "source": [
        "import cv2 \n",
        "import matplotlib.pyplot as plt\n",
        "import numpy as np\n",
        "from keras.models import load_model\n",
        "\n",
        "\n",
        "#画像の読み込みとリサイズ（画像を横の幅400・高さ100ピクセルにリサイズ）\n",
        "\n",
        "img = cv2.imread('869.png') # ここに数字画像認識をしたい画像を入れます。事前に4等分を考慮して撮影した画像を利用\n",
        "img = cv2.resize(img, (400,  100)) # サイズが調整されていない画像を入れた場合のエラー予防\n",
        "#img = cv2.resize(img, (800,  200))  # 画像を横の幅800・高さ200ピクセルにリサイズするプログラム例\n",
        "\n",
        "\n",
        "# 画像のトリミング [y1:y2, x1:x2]  （img = cv2.resize(img, (400,  100)) を使った場合のプログラム例\n",
        "\n",
        "data1 = img[0:100, 0:100]     #yの範囲（縦）が0〜100・xの範囲（横）が0〜100までをトリミング\n",
        "data2 = img[0:100, 100:200] #yの範囲（縦）が0〜100・xの範囲（横）が100〜200までをトリミング\n",
        "data3 = img[0:100, 200:300] #yの範囲（縦）が0〜100・xの範囲（横）が200〜300までをトリミング\n",
        "data4 = img[0:100, 300:400] #yの範囲（縦）が0〜100・xの範囲（横）が300〜400までをトリミング\n",
        "\n",
        "#（img = cv2.resize(img, (800,  200)) を使った場合のプログラム例\n",
        "#data1 = img[0:200, 0:200]     #yの範囲（縦）が0〜200・xの範囲（横）が0〜200までをトリミング\n",
        "#data2 = img[0:200, 200:400] #yの範囲（縦）が0〜200・xの範囲（横）が200〜400までをトリミング\n",
        "#data3 = img[0:200, 400:600] #yの範囲（縦）が0〜200・xの範囲（横）が400〜600までをトリミング\n",
        "#data4 = img[0:200, 600:800] #yの範囲（縦）が0〜200・xの範囲（横）が600〜800までをトリミング\n",
        "\n",
        "\n",
        "# トリミングした画像を保存\n",
        "\n",
        "cv2.imwrite('data1.png', data1)\n",
        "cv2.imwrite('data2.png', data2)\n",
        "cv2.imwrite('data3.png', data3)\n",
        "cv2.imwrite('data4.png', data4)\n",
        "\n",
        "\n",
        "# 学習済みモデルの読み込み\n",
        "\n",
        "model = load_model('model.h5')   # ここに学習済みモデルを入れます\n",
        "                                                      # 学習済みモデルの画像のカラー設定には「モノクロ・グレースケール」「カラー」があります。\n",
        "\n",
        "# 画像の各種設定\n",
        "\n",
        "folder = ['0', '1', '2', '3', '4', '5', '6', '7', '8', '9', '']  # 空白の表示に対応させるため、blankのところを「' '」で空白に設定\n",
        "image_width = 28        # 使用する学習済みモデルと同じwidth（横幅）を指定\n",
        "image_height = 28       # 使用する学習済みモデルと同じheight（縦の高さ）を指定\n",
        "color_setting = 1          # 学習済みモデルと同じ画像のカラー設定にする。モノクロ・グレースケールの場合は「1」。カラーの場合は「3」 。\n",
        "cv2_color_setting = 0   # 学習済みモデルと同じ画像のカラー設定にする。cv2.imreadではモノクロ・グレースケールの場合は「0」。カラーの場合は「1」 。       \n",
        "\n",
        "\n",
        "# 4桁目の画像の数値リスト化（データ化）と予測\n",
        "\n",
        "gazou = cv2.imread('data1.png', cv2_color_setting)  \n",
        "gazou = cv2.resize(gazou, (image_width, image_height))\n",
        "suuti = gazou.reshape(image_width, image_height, color_setting).astype('float32')/255 \n",
        "n1 = model.predict(np.array([suuti]))\n",
        "\n",
        "n1 = n1[0]\n",
        "\n",
        "\n",
        "# 3桁目の画像の数値リスト化（データ化）と予測\n",
        "\n",
        "gazou = cv2.imread('data2.png', cv2_color_setting)     \n",
        "gazou = cv2.resize(gazou, (image_width, image_height))\n",
        "suuti = gazou.reshape(image_width, image_height, color_setting).astype('float32')/255 \n",
        "n2 = model.predict(np.array([suuti]))\n",
        "\n",
        "n2 = n2[0]\n",
        "\n",
        "\n",
        "# 2桁目の画像の数値リスト化（データ化）と予測\n",
        "\n",
        "gazou = cv2.imread('data3.png', cv2_color_setting)           \n",
        "gazou = cv2.resize(gazou, (image_width, image_height))\n",
        "suuti = gazou.reshape(image_width, image_height, color_setting).astype('float32')/255 \n",
        "n3 = model.predict(np.array([suuti]))\n",
        "\n",
        "n3 = n3[0]\n",
        "\n",
        "\n",
        "# 1桁目の画像の数値リスト化（データ化）と予測\n",
        "\n",
        "gazou = cv2.imread('data4.png', cv2_color_setting)        \n",
        "gazou = cv2.resize(gazou, (image_width, image_height))\n",
        "suuti = gazou.reshape(image_width, image_height, color_setting).astype('float32')/255 \n",
        "n4 = model.predict(np.array([suuti]))\n",
        "\n",
        "n4 = n4[0]\n",
        "\n",
        "\n",
        "#結果の表示（個別に認識した結果を、4桁目から順番に並べています。予測確率が高い数字を表示させています）\n",
        "\n",
        "print('7セグメント連続数字画像の認識結果（予測結果）：\\n\\n', folder[n1.argmax()], folder[n2.argmax()], folder[n3.argmax()], folder[n4.argmax()])\n",
        "\n",
        "\n",
        "print('\\n\\n【今回認識した元の画像】')\n",
        "\n",
        "\n",
        "# 元の画像を4分割でトリミングした画像の表示：複数の画像を表示させる\n",
        "img_list=[data1, data2, data3, data4]\n",
        "for bangou, imagenamae in enumerate(img_list):\n",
        "    plt.subplot(2, 4, bangou+1) #(行数,列数,何番目に画像を表示させるか)\n",
        "    plt.axis(\"off\") #画像の軸をオフ\n",
        "    plt.title('data' +str(bangou+1))\n",
        "    plt.imshow(cv2.cvtColor(imagenamae, cv2.COLOR_BGR2RGB))\n"
      ],
      "execution_count": null,
      "outputs": [
        {
          "output_type": "stream",
          "text": [
            "7セグメント連続数字画像の認識結果（予測結果）：\n",
            "\n",
            "  8 6 9\n",
            "\n",
            "\n",
            "【今回認識した元の画像】\n"
          ],
          "name": "stdout"
        },
        {
          "output_type": "display_data",
          "data": {
            "image/png": "[encoded data removed]",
            "text/plain": [
              "<Figure size 432x288 with 4 Axes>"
            ]
          },
          "metadata": {
            "tags": [],
            "needs_background": "light"
          }
        }
      ]
    },
    {
      "cell_type": "markdown",
      "metadata": {
        "id": "xzoHxcNtUjLw"
      },
      "source": [
        "print('7セグメント連続数字画像の認識結果（予測結果）：\\n\\n', folder[n1.argmax()], folder[n2.argmax()], '.' ,folder[n3.argmax()], folder[n4.argmax()])\n",
        "\n",
        "<br>\n",
        "などとプログラムを変更すると小数点や文字を入れられます。\n",
        "<br><br>"
      ]
    },
    {
      "cell_type": "markdown",
      "metadata": {
        "id": "v_fjsvDb7sGI"
      },
      "source": [
        "**⑤ 再学習。**<br><br>\n",
        "認識に失敗した画像（data1.pngなど）を、オリジナルデータセットに追加して再学習。<br>\n",
        "色などを若干変えて2枚ほどデータセットに追加するだけで、結果が変わってくるようでした。<br><br>\n",
        "以下のプログラムで再学習できます。<br>\n",
        "[Keras_CNN_7segment_digits_originaldataset.ipynb | Google Colaboratory 共有ファイル](https://colab.research.google.com/drive/1iNvxdmwt5h-envZKND2LS42dnpcMzdsW?usp=sharing)\n",
        "<br><br>\n",
        "後は②〜⑤の手順を繰り返し、実践活用。\n",
        "<br><br>\n"
      ]
    },
    {
      "cell_type": "code",
      "metadata": {
        "colab": {
          "base_uri": "https://localhost:8080/"
        },
        "id": "SlFowJ6TkV9j",
        "outputId": "3261fdaa-e525-478d-921a-a4c2001b5a7c"
      },
      "source": [
        "print('【ローカル環境で再現したい方用の情報】')\n",
        "print('上記の7セグメントのデジタル数字画像認識プログラムのライブラリなどのバージョン')\n",
        "print('（実行時点のバージョンです）')\n",
        "\n",
        "import platform\n",
        "print('python ' + platform.python_version())\n",
        "\n",
        "import tensorflow as tf\n",
        "print('tensoflow ' + tf.__version__)\n",
        "\n",
        "import keras\n",
        "print('keras ' + keras.__version__)\n",
        "\n",
        "import cv2\n",
        "print('opencv（opencv-python）' +  cv2.__version__)\n",
        "\n",
        "import matplotlib\n",
        "print('matplotlib ' + matplotlib.__version__)\n",
        "\n",
        "print('\\n指定したバージョンのインストールが難しい場合、Python・TensorFlow・Keras以外は最新のバージョンを入れてみてください')"
      ],
      "execution_count": null,
      "outputs": [
        {
          "output_type": "stream",
          "text": [
            "【ローカル環境で再現したい方用の情報】\n",
            "上記の7セグメントのデジタル数字画像認識プログラムのライブラリなどのバージョン\n",
            "（実行時点のバージョンです）\n",
            "python 3.6.9\n",
            "tensoflow 2.4.1\n",
            "keras 2.4.3\n",
            "opencv（opencv-python）4.1.2\n",
            "matplotlib 3.2.2\n",
            "\n",
            "指定したバージョンのインストールが難しい場合、Python・TensorFlow・Keras以外は最新のバージョンを入れてみてください\n"
          ],
          "name": "stdout"
        }
      ]
    },
    {
      "cell_type": "markdown",
      "metadata": {
        "id": "KRPPmXEyWvLN"
      },
      "source": [
        "<br><br>\n",
        "\n",
        "**【応用編】**\n",
        "<br><br>\n",
        "自動文字検出のできるOCR開発に挑戦♪<br>\n",
        "\n",
        "まずは画像内のデジタル数字を検出<br>\n",
        "[7segment-digits-object-detection.ipynb | Google Colaboratory 共有ファイル](https://colab.research.google.com/drive/1BsVqYGX4j0Ndq1QLi4DKUgputW2suElW?usp=sharing)\n",
        "<br>\n",
        "<br>\n",
        "文字検出に成功したら文字検出機能付きのOCR開発<br>\n",
        "[CNN-7segment-digits-original-OCR.ipynb | Google Colaboratory 共有ファイル](https://colab.research.google.com/drive/1EvhfejPKspAurty9ItSztvhQ-IbPvu3-?usp=sharing)"
      ]
    },
    {
      "cell_type": "markdown",
      "metadata": {
        "id": "tyUSMkT7Nwtg"
      },
      "source": [
        "<br><br><b>【最終更新】</b>2021年2月23日<br>\n",
        "<br>\n",
        "[【4桁 – 7セグメント編】連続デジタル数字画像認識プログラミング入門講座（Python・OpenCV・Keras・CNN）by 子供プログラマー](https://child-programmer.com/seven-segment-digits-ocr-beginner/)\n",
        "<br><br>\n",
        "[日本人のための人工知能プログラマー入門講座（機械学習）by 子供プログラマー](https://child-programmer.com/ai/)\n",
        "\n"
      ]
    }
  ]
}